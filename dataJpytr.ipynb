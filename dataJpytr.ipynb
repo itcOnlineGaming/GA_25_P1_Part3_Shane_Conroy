{
 "cells": [
  {
   "cell_type": "code",
   "execution_count": 1,
   "metadata": {},
   "outputs": [],
   "source": [
    "import pandas as pd"
   ]
  },
  {
   "cell_type": "code",
   "execution_count": 5,
   "metadata": {},
   "outputs": [],
   "source": [
    "data_playerLoggedIn = pd.read_csv(\"C:\\\\Users\\\\gameuser\\\\Desktop\\\\Foldera\\\\College\\\\S2\\\\GA\\\\GA_25_P1_Part3_Shane_Conroy\\\\data\\\\player_logged_in.csv\")\n",
    "\n",
    "data_exitedGame = pd.read_csv(\"C:\\\\Users\\\\gameuser\\\\Desktop\\\\Foldera\\\\College\\\\S2\\\\GA\\\\GA_25_P1_Part3_Shane_Conroy\\\\data\\\\exited_game.csv\")"
   ]
  },
  {
   "cell_type": "code",
   "execution_count": 6,
   "metadata": {},
   "outputs": [
    {
     "name": "stdout",
     "output_type": "stream",
     "text": [
      "Total unique players: 11080\n"
     ]
    }
   ],
   "source": [
    "unique_players = data_playerLoggedIn['pid'].nunique()\n",
    "print(\"Total unique players:\", unique_players)"
   ]
  },
  {
   "cell_type": "code",
   "execution_count": null,
   "metadata": {},
   "outputs": [],
   "source": []
  },
  {
   "cell_type": "code",
   "execution_count": null,
   "metadata": {},
   "outputs": [],
   "source": []
  }
 ],
 "metadata": {
  "kernelspec": {
   "display_name": "Python 3",
   "language": "python",
   "name": "python3"
  },
  "language_info": {
   "codemirror_mode": {
    "name": "ipython",
    "version": 3
   },
   "file_extension": ".py",
   "mimetype": "text/x-python",
   "name": "python",
   "nbconvert_exporter": "python",
   "pygments_lexer": "ipython3",
   "version": "3.12.9"
  }
 },
 "nbformat": 4,
 "nbformat_minor": 2
}
